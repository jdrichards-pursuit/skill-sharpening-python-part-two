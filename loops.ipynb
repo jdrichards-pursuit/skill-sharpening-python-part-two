{
 "cells": [
  {
   "cell_type": "markdown",
   "metadata": {},
   "source": [
    "1. Write a function sum_of_squares that takes a range of numbers and returns the sum of the squares of the numbers in that range.\n",
    "\n",
    "   \n",
    "\n"
   ]
  },
  {
   "cell_type": "code",
   "execution_count": null,
   "metadata": {},
   "outputs": [],
   "source": [
    "# Uncomment below to test\n",
    "# (print(sum_of_squares(1, 5)))\n",
    "# (print(sum_of_squares(1, 10)))\n",
    "# (print(sum_of_squares(1, 20)))   "
   ]
  },
  {
   "cell_type": "markdown",
   "metadata": {},
   "source": [
    "2. Write a function numbered_values that takes a list of values and and prints out the number (starting with 1) and value of each value in the list.\n",
    "\n",
    "Input:\n",
    "input_list = [1, 2, 3, 4, 5]\n",
    "\n",
    "\n",
    "Output:\n",
    "1: 1\n",
    "2: 2\n",
    "3: 3\n",
    "4: 4\n",
    "5: 5\n",
    "\n"
   ]
  },
  {
   "cell_type": "code",
   "execution_count": 3,
   "metadata": {},
   "outputs": [],
   "source": [
    "# Uncomment below to test\n",
    "# (print(numbered_values([1, 2, 3, 4, 5])))\n",
    "# (print(numbered_values([1, 2, 3, 4, 5])))\n",
    "# (print(numbered_values([1, 2, 3, 4, 5])))"
   ]
  },
  {
   "cell_type": "markdown",
   "metadata": {},
   "source": [
    "3. Write a funciton value_count that takes a list of values and a target value and returns how many times the target value occurs in the list.\n",
    "\n",
    "Input:\n",
    "input_list = [1, 2, 3, 4, 5, 2, 2, 3, 4, 5, 2]\n",
    "target_value = 2\n",
    "\n",
    "Output:\n",
    "3   \n",
    "\n",
    "\n"
   ]
  },
  {
   "cell_type": "code",
   "execution_count": null,
   "metadata": {},
   "outputs": [],
   "source": [
    "# Uncomment below to test\n",
    "# (print(value_count([1, 2, 3, 4, 5, 2, 2, 3, 4, 5, 2], 2)))\n",
    "# (print(value_count([1, 2, 3, 4, 5, 2, 2, 3, 4, 5, 2], 3)))"
   ]
  },
  {
   "cell_type": "markdown",
   "metadata": {},
   "source": [
    "4. Write a function index_of_value that takes a list of values and a target value and returns the index of the first occurrence of the target value in the list.\n",
    "\n",
    "Input:\n",
    "input_list = [1, 2, 3, 4, 5, 2, 2, 3, 4, 5, 2]\n",
    "target_value = 2\n",
    "\n",
    "Output:\n",
    "1   \n",
    "\n",
    "\n"
   ]
  },
  {
   "cell_type": "code",
   "execution_count": null,
   "metadata": {},
   "outputs": [],
   "source": [
    "# Uncomment below to test\n",
    "# (print(index_of_value([1, 2, 3, 4, 5, 2, 2, 3, 4, 5, 2], 2)))\n",
    "# (print(index_of_value([1, 2, 3, 4, 5, 2, 2, 3, 4, 5, 2], 3)))"
   ]
  }
 ],
 "metadata": {
  "kernelspec": {
   "display_name": "venv",
   "language": "python",
   "name": "python3"
  },
  "language_info": {
   "codemirror_mode": {
    "name": "ipython",
    "version": 3
   },
   "file_extension": ".py",
   "mimetype": "text/x-python",
   "name": "python",
   "nbconvert_exporter": "python",
   "pygments_lexer": "ipython3",
   "version": "3.12.5"
  }
 },
 "nbformat": 4,
 "nbformat_minor": 2
}
