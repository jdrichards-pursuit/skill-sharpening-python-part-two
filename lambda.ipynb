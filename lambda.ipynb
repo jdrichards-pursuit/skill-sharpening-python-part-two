{
 "cells": [
  {
   "cell_type": "markdown",
   "metadata": {},
   "source": [
    "Problem:\n",
    "Write a Python function that accepts a list of numbers and a multiplier. Use a lambda function to multiply each number in the list by the multiplier and return the modified list. Instead of map(), use a for loop.\n",
    "\n",
    "Input:\n",
    "numbers = [1, 2, 3, 4, 5]\n",
    "multiplier = 2\n",
    "\n",
    "Output:\n",
    "[2, 4, 6, 8, 10]\n",
    "\n"
   ]
  },
  {
   "cell_type": "code",
   "execution_count": null,
   "metadata": {},
   "outputs": [],
   "source": [
    "# Uncomment below to test   \n",
    "# (print(multiply_list_elements([1, 2, 3, 4, 5], 2)))\n",
    "# (print(multiply_list_elements([1, 2, 3, 4, 5], 3)))\n",
    "# (print(multiply_list_elements([1, 2, 3, 4, 5], 4)))\n"
   ]
  }
 ],
 "metadata": {
  "language_info": {
   "name": "python"
  }
 },
 "nbformat": 4,
 "nbformat_minor": 2
}
