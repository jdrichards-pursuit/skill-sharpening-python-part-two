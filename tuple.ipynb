{
 "cells": [
  {
   "cell_type": "markdown",
   "metadata": {},
   "source": [
    "1. Write a Python function tuple_stats that accepts a tuple of numbers and returns a new tuple that contains:\n",
    "\n",
    "The smallest number.\n",
    "The largest number.\n",
    "The sum of all the numbers.\n",
    "\n",
    "Input: (1, 2, 3, 4, 5)\n",
    "Output: (1, 5, 15)\n",
    "\n",
    "Input: (10, 20, 30, 40, 50)\n",
    "Output: (10, 50, 150)\n",
    "\n",
    "Input: (0, 0, 0, 0, 0)\n",
    "Output: (0, 0, 0)\n",
    "\n"
   ]
  },
  {
   "cell_type": "code",
   "execution_count": null,
   "metadata": {},
   "outputs": [],
   "source": [
    "\n",
    "# Uncomment below to test\n",
    "# (print(tuple_stats((1, 2, 3, 4, 5))))\n",
    "# (print(tuple_stats((10, 20, 30, 40, 50))))\n",
    "# (print(tuple_stats((0, 0, 0, 0, 0))))"
   ]
  },
  {
   "cell_type": "markdown",
   "metadata": {},
   "source": [
    "2. Write a Python function that accepts a tuple of strings and returns a new tuple that:\n",
    "\n",
    "Reverses the order of the elements in the tuple.\n",
    "Extracts a slice of the reversed tuple (from index 1 to the second-to-last element).\n",
    "\n",
    "Input: ('apple', 'banana', 'cherry', 'date', 'elderberry')\n",
    "Output: ('elderberry', 'date', 'cherry', 'banana')\n",
    "\n",
    "Input: ('one', 'two', 'three', 'four', 'five', 'six')\n",
    "Output: ('six', 'five', 'four', 'three')"
   ]
  },
  {
   "cell_type": "code",
   "execution_count": null,
   "metadata": {},
   "outputs": [],
   "source": [
    "#Uncomment below to test\n",
    "# (print(reverse_and_slice_tuple(('apple', 'banana', 'cherry', 'date', 'elderberry'))))\n",
    "# (print(reverse_and_slice_tuple(('one', 'two', 'three', 'four', 'five', 'six'))))"
   ]
  }
 ],
 "metadata": {
  "language_info": {
   "name": "python"
  }
 },
 "nbformat": 4,
 "nbformat_minor": 2
}
