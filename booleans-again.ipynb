{
 "cells": [
  {
   "cell_type": "markdown",
   "metadata": {},
   "source": [
    "1. Given 3 variables, a, b, and c, d write an function this_or_that  that evaluates to True if a is 1/2 of b or c is 1/4 of d.\n",
    "\n",
    "Input:\n",
    "a = 2\n",
    "b = 4\n",
    "c = 1\n",
    "d = 3\n",
    "\n",
    "Expected Output:\n",
    "True\n",
    "\n"
   ]
  },
  {
   "cell_type": "code",
   "execution_count": null,
   "metadata": {},
   "outputs": [],
   "source": [
    "a = 2\n",
    "b = 4\n",
    "c = 1\n",
    "d = 3\n",
    "\n",
    "\n",
    "# Uncomment below to test\n",
    "# (print(this_or_that(2, 4, 1, 3)))"
   ]
  },
  {
   "cell_type": "markdown",
   "metadata": {},
   "source": [
    "\n",
    "2. Given a, b, c, d, write an function this_and_that takes the four parameters  and evaluates to True if a equals b and c equals d otherwise it should evaluate to False.\n",
    "\n",
    "Input:\n",
    "\n",
    "a = [1,4,6]\n",
    "\n",
    "b = [1,4,6]\n",
    "\n",
    "c = ['a','b','c']\n",
    "\n",
    "d = c\n",
    "\n",
    "Expected Output:\n",
    "False"
   ]
  },
  {
   "cell_type": "code",
   "execution_count": null,
   "metadata": {},
   "outputs": [],
   "source": [
    "a = [1,4,6]\n",
    "\n",
    "b = [1,4,6]\n",
    "\n",
    "c = ['a','b','c']\n",
    "\n",
    "d = c\n",
    "\n",
    "\n",
    "# Uncomment below to test\n",
    "# (print(this_or_that(a,b,c,d)))\n"
   ]
  },
  {
   "cell_type": "markdown",
   "metadata": {},
   "source": [
    "3. Write a function check_falsy that evaluates whether a value is falsy. If it is falsy, print False. Otherwise, print True.\n",
    "\n"
   ]
  },
  {
   "cell_type": "code",
   "execution_count": null,
   "metadata": {},
   "outputs": [],
   "source": [
    "# Uncomment below to test\n",
    "# (print(check_falsy(0)))\n",
    "# (print(check_falsy(1)))\n",
    "# (print(check_falsy(\"\")))\n",
    "# (print(check_falsy([])))\n",
    "# (print(check_falsy(None)))\n",
    "# (print(check_falsy(\"Hello\")))"
   ]
  },
  {
   "cell_type": "markdown",
   "metadata": {},
   "source": [
    "4. Write a fucntion in_list that checks if a value is in a list. If it is, print True. Otherwise, print False.\n",
    "\n"
   ]
  },
  {
   "cell_type": "code",
   "execution_count": null,
   "metadata": {},
   "outputs": [],
   "source": [
    "\n",
    "\n",
    "\n",
    "# Uncomment below to test\n",
    "# (print(in_list(1, [1,2,3,4,5])))\n",
    "# (print(in_list(6, [1,2,3,4,5])))\n",
    "# (print(in_list(\"a\", [\"a\", \"b\", \"c\", \"d\", \"e\"])))\n",
    "# (print(in_list(\"f\", [\"a\", \"b\", \"c\", \"d\", \"e\"])))"
   ]
  },
  {
   "cell_type": "markdown",
   "metadata": {},
   "source": [
    "5. Write a function convert_val that converts a value to a boolean. If the output is True, print True. Otherwise, print False.\n",
    "\n",
    "\n",
    "\n",
    "   "
   ]
  },
  {
   "cell_type": "code",
   "execution_count": null,
   "metadata": {},
   "outputs": [],
   "source": [
    "\n",
    "\n",
    "\n",
    "# Uncomment below to test\n",
    "# (print(convert_val(0)))\n",
    "# (print(convert_val(1)))\n",
    "# (print(convert_val(\"\")))\n",
    "# (print(convert_val([])))\n",
    "# (print(convert_val(None))) "
   ]
  }
 ],
 "metadata": {
  "kernelspec": {
   "display_name": "venv",
   "language": "python",
   "name": "python3"
  },
  "language_info": {
   "name": "python",
   "version": "3.12.5"
  }
 },
 "nbformat": 4,
 "nbformat_minor": 2
}
