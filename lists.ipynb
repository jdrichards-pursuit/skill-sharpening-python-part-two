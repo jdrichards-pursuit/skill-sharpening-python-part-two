{
 "cells": [
  {
   "cell_type": "markdown",
   "metadata": {},
   "source": [
    "1. Write a function remove_value that takes a list and a value as input and removes the value from the list. If the value is not in the list, print \"Value not found\".\n",
    "\n",
    "\n"
   ]
  },
  {
   "cell_type": "code",
   "execution_count": null,
   "metadata": {},
   "outputs": [],
   "source": [
    "\n",
    "\n",
    "# Uncomment below to test\n",
    "# (print(remove_value([1, 2, 3, 4, 5], 3)))\n",
    "# (print(remove_value([1, 2, 3, 4, 5], 6)))\n",
    "# (print(remove_value([1, 2, 3, 4, 5], 3)))"
   ]
  },
  {
   "cell_type": "markdown",
   "metadata": {},
   "source": [
    "2. Write a function add_value that takes a list and a value as input and adds the value to the end of the list. If the value is already in the list, print \"Value already in list\".\n",
    "\n"
   ]
  },
  {
   "cell_type": "code",
   "execution_count": null,
   "metadata": {},
   "outputs": [],
   "source": [
    "\n",
    "# Uncomment below to test\n",
    "# (print(add_value([1, 2, 3, 4, 5], 6)))\n",
    "# (print(add_value([1, 2, 3, 4, 5], 5)))\n"
   ]
  },
  {
   "cell_type": "markdown",
   "metadata": {},
   "source": [
    "3. Write a function add_value adds a value to the beginning of a list.  \n",
    "\n",
    "\n",
    "\n"
   ]
  },
  {
   "cell_type": "code",
   "execution_count": null,
   "metadata": {},
   "outputs": [],
   "source": [
    "\n",
    "\n",
    "# Uncomment below to test\n",
    "# (print(add_value_if_not_present([1, 2, 3, 4, 5], 6)))\n",
    "# (print(add_value_if_not_present([1, 2, 3, 4, 5], 5)))"
   ]
  },
  {
   "cell_type": "markdown",
   "metadata": {},
   "source": [
    "4. Write a function remove_value_by_index that takes a list and an index as input and removes the value at the index from the list. If the index is out of range, print \"Index out of range\".\n",
    "\n",
    "\n",
    "\n",
    "\n"
   ]
  },
  {
   "cell_type": "code",
   "execution_count": null,
   "metadata": {},
   "outputs": [],
   "source": [
    "\n",
    "\n",
    "\n",
    "# Uncomment below to test\n",
    "# (print(remove_value_by_index([1, 2, 3, 4, 5], 3)))\n",
    "# (print(remove_value_by_index([1, 2, 3, 4, 5], 6)))\n",
    "# (print(remove_value_by_index([1, 2, 3, 4, 5], 3)))"
   ]
  },
  {
   "cell_type": "markdown",
   "metadata": {},
   "source": [
    "Write a function slice_list that take a list of numbers and an index and return only the part of the list that starts at the index and goes to the end of the list.\n",
    "\n",
    "\n"
   ]
  },
  {
   "cell_type": "code",
   "execution_count": null,
   "metadata": {},
   "outputs": [],
   "source": [
    "\n",
    "\n",
    "\n",
    "# Uncomment below to test\n",
    "# (print(slice_list([1, 2, 3, 4, 5], 3)))\n",
    "# (print(slice_list([1, 2, 3, 4, 5], 4)))\n",
    "# (print(slice_list([1, 2, 3, 4, 5], 2)))\n"
   ]
  },
  {
   "cell_type": "markdown",
   "metadata": {},
   "source": [
    "6. Write a function create_list_comprehension that takes a list of numbers and returns a list of the squares of the numbers in the list. Use a list comprehension to do this.\n",
    "\n",
    "\n",
    "\n",
    "\n",
    "\n",
    "\n",
    "\n"
   ]
  },
  {
   "cell_type": "code",
   "execution_count": null,
   "metadata": {},
   "outputs": [],
   "source": [
    "# Uncomment below to test\n",
    "# (print(create_list_comprehension([1, 2, 3, 4, 5])))\n",
    "# (print(create_list_comprehension([3, 4, 5, 6, 7])))\n"
   ]
  }
 ],
 "metadata": {
  "language_info": {
   "name": "python"
  }
 },
 "nbformat": 4,
 "nbformat_minor": 2
}
